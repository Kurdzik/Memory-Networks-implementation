{
 "cells": [
  {
   "cell_type": "code",
   "execution_count": 11,
   "metadata": {},
   "outputs": [],
   "source": []
  },
  {
   "cell_type": "code",
   "execution_count": 12,
   "metadata": {},
   "outputs": [
    {
     "name": "stdout",
     "output_type": "stream",
     "text": [
      "----------------------------------------------------------------------\n",
      "Train data len: 10000\n",
      "----------------------------------------------------------------------\n",
      "Test data len: 1000\n",
      "----------------------------------------------------------------------\n",
      "\n",
      "Max story length is: 156 words\n",
      "Max question length is: 6 words\n",
      "\n",
      "Total number of unique words in questions and stories: 37\n",
      "----------------------------------------------------------------------\n",
      "----------------------------------------------------------------------\n",
      "\n",
      "Story: Mary went to the bathroom . Daniel took the football there . John moved to the bedroom . John journeyed to the kitchen . John took the milk there . John went to the bedroom . Sandra went to the hallway . Daniel put down the football there .\n",
      "\n",
      "Question: Is Sandra in the bathroom ?\n",
      "\n",
      "Answer: no\n",
      "----------------------------------------------------------------------\n"
     ]
    }
   ],
   "source": [
    "story,question,corr_answer,question_input,max_story_len,max_question_len = get_question()\n",
    "    "
   ]
  },
  {
   "cell_type": "code",
   "execution_count": 9,
   "metadata": {},
   "outputs": [],
   "source": [
    "\n",
    "    "
   ]
  },
  {
   "cell_type": "code",
   "execution_count": 14,
   "metadata": {},
   "outputs": [
    {
     "name": "stderr",
     "output_type": "stream",
     "text": [
      "2022-07-22 16:41:06.853479: I tensorflow/compiler/jit/xla_cpu_device.cc:41] Not creating XLA devices, tf_xla_enable_xla_devices not set\n",
      "2022-07-22 16:41:06.853597: I tensorflow/core/platform/cpu_feature_guard.cc:142] This TensorFlow binary is optimized with oneAPI Deep Neural Network Library (oneDNN) to use the following CPU instructions in performance-critical operations:  SSE4.1 SSE4.2 AVX AVX2 AVX512F FMA\n",
      "To enable them in other operations, rebuild TensorFlow with the appropriate compiler flags.\n",
      "2022-07-22 16:41:06.854240: I tensorflow/core/common_runtime/process_util.cc:146] Creating new thread pool with default inter op setting: 2. Tune using inter_op_parallelism_threads for best performance.\n",
      "2022-07-22 16:41:07.051799: I tensorflow/compiler/mlir/mlir_graph_optimization_pass.cc:116] None of the MLIR optimization passes are enabled (registered 2)\n",
      "2022-07-22 16:41:07.068402: I tensorflow/core/platform/profile_utils/cpu_utils.cc:112] CPU Frequency: 3600000000 Hz\n"
     ]
    },
    {
     "name": "stdout",
     "output_type": "stream",
     "text": [
      "\n",
      "Predicted answer is:  no\n",
      "Probability of certainty was:  97.39 %\n"
     ]
    },
    {
     "data": {
      "text/plain": [
       "('no', 97.39)"
      ]
     },
     "execution_count": 14,
     "metadata": {},
     "output_type": "execute_result"
    }
   ],
   "source": [
    "model_predict(question=question_input,\n",
    "              max_question_len=max_question_len,\n",
    "              max_story_len=max_story_len)"
   ]
  },
  {
   "cell_type": "code",
   "execution_count": null,
   "metadata": {},
   "outputs": [],
   "source": []
  }
 ],
 "metadata": {
  "kernelspec": {
   "display_name": "Python 3.9.12 ('qa_bot')",
   "language": "python",
   "name": "python3"
  },
  "language_info": {
   "codemirror_mode": {
    "name": "ipython",
    "version": 3
   },
   "file_extension": ".py",
   "mimetype": "text/x-python",
   "name": "python",
   "nbconvert_exporter": "python",
   "pygments_lexer": "ipython3",
   "version": "3.9.12"
  },
  "orig_nbformat": 4,
  "vscode": {
   "interpreter": {
    "hash": "9b59e86b0cddfd01d82ea01636af62499c60e52215df1bfce637c1cca8b99496"
   }
  }
 },
 "nbformat": 4,
 "nbformat_minor": 2
}
